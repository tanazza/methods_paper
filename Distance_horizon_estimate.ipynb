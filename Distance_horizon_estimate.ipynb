{
 "cells": [
  {
   "cell_type": "markdown",
   "metadata": {
    "id": "TOnR62iayUzs"
   },
   "source": [
    "## Distance_horizon_estimate_py3\n",
    "\n",
    "Aim of this code is to get analytical estimates of distance horizon for a) Stochastic, b) Matched Filter (MF) and c) Semi- Coherent (SC) limits. This code was developed by Tanazza Khanam, member of the Cross-Correlation Algorithm (CoCoA) team led by Alessandra Corsi. If you have used this code or any other scripts that are part of the CoCoA package for a project that leads to a scientific publication or public presentation, please acknowledge this by citing the following papers:\n",
    "\n",
    "- Coyne, Corsi, Owen 2016, https://ui.adsabs.harvard.edu/abs/2016PhRvD..93j4059C/abstract (referred as CCO hereafter)\n",
    "- Sowell, Corsi, Coyne 2019, https://ui.adsabs.harvard.edu/abs/2019PhRvD.100l4041S/abstract \n",
    "\n",
    "\n"
   ]
  },
  {
   "cell_type": "markdown",
   "metadata": {},
   "source": [
    "### Code Summary:\n",
    "\n",
    "- Code intakes a waveform file, run parameters, statistic and timinig parameter inputs given in corresponding .ini file. \n",
    "- First it calculates constant guassian PSD value also called white noise using the a particular detector's sensitivity curve. \n",
    "- Next it calculates detection statistics mean value, sigma and hrms_input for above gaussian (constant) PSD value. \n",
    "- Compares the same calculations with their corresponding detection threshold limits for Stochastic, MF and SC cases. \n",
    "- Further use that to calculate distance horizon for an injected input distance for each case.\n",
    "- Lastly, calculate the hrms_min values over a range of FAP to reproduce Fig-5 from CCO for comparison."
   ]
  },
  {
   "cell_type": "markdown",
   "metadata": {},
   "source": [
    "### How to run this code\n",
    "- The .ipynb can be run in Jupiter Notebook and has been tested to work on https://jupyter.ligo.caltech.edu.\n",
    "- The .py version can be run from command line via \"python Distance_horizon_estimate.py --config Distance_horizon_estimate.ini --num_of_waveform 0\" and has been tested to work on the CIT resources of the LDG.\n",
    "- The .py version of this code is generated via the final command line \"!jupyter nbconvert --to script Distance_horizon_estimate.ipynb\" in the .ipynb version. Thus, the two versions of this code mirror exactly each other. Any modifications to the code MUST be made in the .ipynb version of it (since it's a lot easier to work on it), and then trasferred identically to the .py simply by running the .ipynb itself. This also guarantees that you are making modifications that actually work: if the .ipynb does not run properly up to the final line where it translates itself into a .py version, it means the modifications you made have bugs!"
   ]
  },
  {
   "cell_type": "markdown",
   "metadata": {
    "id": "cqFsRQ2EIyLk"
   },
   "source": [
    "### Inputs of the code begin here"
   ]
  },
  {
   "cell_type": "markdown",
   "metadata": {
    "id": "hgrlHWCrRHfD"
   },
   "source": [
    "### 1) Importing python dependencies\n",
    "In the block below we import the necessary python modules. Make sure you are running this code under python3 and with these packages already installed."
   ]
  },
  {
   "cell_type": "code",
   "execution_count": 1,
   "metadata": {
    "id": "MggZXAxfvwZf"
   },
   "outputs": [],
   "source": [
    "import numpy as np\n",
    "import cmath\n",
    "from tqdm import trange as tnrange\n",
    "from scipy.integrate import cumtrapz\n",
    "import matplotlib.pyplot as plt\n",
    "from scipy import special\n",
    "from numpy import trapz\n",
    "from scipy.stats import ncx2, chi2\n",
    "import argparse\n",
    "import configparser\n",
    "import sys\n",
    "import os\n",
    "import datetime"
   ]
  },
  {
   "cell_type": "markdown",
   "metadata": {},
   "source": [
    "### 2) Tracking time for code\n",
    "To keep track of how long the code takes to run, below we print the date and time of when this code starts running and define it as tick1. "
   ]
  },
  {
   "cell_type": "code",
   "execution_count": 2,
   "metadata": {},
   "outputs": [
    {
     "name": "stdout",
     "output_type": "stream",
     "text": [
      "..........................\n",
      "Starting to run on  2022-09-07-15:20:15\n",
      "..........................\n",
      " \n",
      " \n"
     ]
    }
   ],
   "source": [
    "tick1 = datetime.datetime.now()\n",
    "print(\"..........................\")\n",
    "print('Starting to run on ',tick1.strftime(\"%Y-%m-%d-%H:%M:%S\"))\n",
    "print(\"..........................\")\n",
    "print(\" \")\n",
    "print(\" \")"
   ]
  },
  {
   "cell_type": "markdown",
   "metadata": {},
   "source": [
    "### 3) Parsing the Distance_horizon_estimate.ini file\n",
    "Below we use the argparse python module to pass to Distance_horizon_estimate (this code) the necessary inputs from Distance_horizon_estimate.ini (configuration file) and number of waveforms to run at. We use a configuration file because there are several inputs we need to provide to Distance_horizon_estimate, and saving them all in a single .ini file helps with bookeeping. Note that the .ini file MUST be named Distance_horizon_estimate.ini. This file MUST be saved in the same directory where you run Distance_horizon_estimate.py or Distance_horizon_estimate.ipynb. \n"
   ]
  },
  {
   "cell_type": "markdown",
   "metadata": {},
   "source": [
    "The first step in using the argparse is creating an ArgumentParser object, which we call parser here.\n",
    "\n",
    "Then, we fill the ArgumentParser with information about the arguments we need (i.e. the name of the .ini file) by using the add_argument() method. This tells the ArgumentParser how to take the string we provide on the command line and turn various parts of that string into objects. Specifically, we need to tell the ArgumentParser that what follows the --config in the command line is the name of the file we need to use as configuration file. These instructions are stored and used when parse_args() is called later on. Similary, add_argument() method for number of waveform input\n",
    "\n",
    "**Note that if no configuration file is passed via command line, or if the .ipynb version of this code is run (see Section 4), the code will search for a 'Distance_horizon_estimate.ini' file in the working directory and automatically use that as configuration file.**"
   ]
  },
  {
   "cell_type": "code",
   "execution_count": 3,
   "metadata": {
    "colab": {
     "base_uri": "https://localhost:8080/"
    },
    "id": "4UWr6P3BvwZh",
    "outputId": "412bc76e-a98c-49ad-852e-90af1906f88b"
   },
   "outputs": [
    {
     "name": "stdout",
     "output_type": "stream",
     "text": [
      "The system command line arguments are set to: ['/home/tanazza.khanam/.local/lib/python3.6/site-packages/ipykernel_launcher.py', '-f', '/home/tanazza.khanam/.local/share/jupyter/runtime/kernel-bbc65289-d28b-4d6f-b369-b257ac8836bf.json']\n",
      "..........................\n",
      " \n",
      " \n"
     ]
    }
   ],
   "source": [
    "parser = argparse.ArgumentParser()\n",
    "parser = argparse.ArgumentParser(description='Use this code to get analytical estimates of distance horizon for Stochastic, Matched Filter (MF) and Semi- Coherent (SC) limits')\n",
    "parser.add_argument('--config',type=str,required=False,help='The path to an .ini file which configures the various inputs for Distance_horizon_estimate code. The name of the .ini file needs to be provided following the --config option.', default='Distance_horizon_estimate.ini')\n",
    "parser.add_argument('--num_of_waveform',type=int, required=False, help='Provide the name of the wavefrom name listed/placed at waveformpath defined in .ini file ', default=0)\n",
    "print('The system command line arguments are set to:',sys.argv)\n",
    "print(\"..........................\")\n",
    "print(\" \")\n",
    "print(\" \")"
   ]
  },
  {
   "cell_type": "markdown",
   "metadata": {},
   "source": [
    "### 4) Command line versus jupyter notebook run: setting the sys.argv array correctly \n",
    "The if else statement below takes care of setting the sys.argv array correctly (depending on whether we are running via command line or jupyter notebook) **before** the args = parser.parse_args() command tells argparse to read the sys.argv array itself and interpret it as described in the parser.add_argument command above. \n",
    "\n",
    "When running Distance_horizon_estimate.py via command line ones types in a shell:\n",
    "- python Distance_horizon_estimate.py --config Distance_horizon_estimate.ini --num_of_waveform 0\n",
    "\n",
    "The above command line has the following effect on the sys.argv list:\n",
    "- The code name 'Distance_horizon_estimate.py' gets saved as a string into the first element sys.argv[0] of the sys.argv list;\n",
    "- The '--config' gets saved as a string into the second element sys.argv[1] of the sys.argv list;\n",
    "- The name of the ini file 'Distance_horizon_estimate.ini' gets saved in the thrid element sys.argv[2] of the sys.argv list;\n",
    "- The '--num_of_waveform' gets saved as a string into the second element sys.argv[3] of the sys.argv list;\n",
    "- The number 0 (default for 1 waveform) gets saved in the thrid element sys.argv[4] of the sys.argv list.\n",
    "\n",
    "The above sys.argv list can be interepreted correctly without modifications when calling the parser (thanks to the instructions we provided above via the parser.add_argument).\n",
    "\n",
    "When running Distance_horizon_estimate.py in a jupyter notebook (rather than via command line), however, the sys.argv array gets messed up. Specifically, in jupyter the sys.argv[0] will read something like /home/tanazza.khanam/.local/lib/python3.6/site-packages/ipykernel_launcher.py and the sys.argv[1] will typically be set to '-f'. Thus, we use the following trick to make Distance_horizon_estimate.py work in jupyter without modifications: \n",
    "- We reset all elements in the sys.argv list to null values;\n",
    "- Because setting sys.argv to a null string is equivalent to not passing any --config option, the parser sets the .ini file and number of waveform equal to their respective default values (declared above via the ArgumentParser as being equal to Distance_horizon_estimate.ini and 0 respectively)."
   ]
  },
  {
   "cell_type": "code",
   "execution_count": 4,
   "metadata": {},
   "outputs": [
    {
     "name": "stdout",
     "output_type": "stream",
     "text": [
      "Since this code does not apper to be run via command line, I am passing the default Distance_horizon_estimate.ini and number of waveforms 0 (zero) as inputs.\n",
      "..........................\n",
      " \n"
     ]
    }
   ],
   "source": [
    "if sys.argv[0] == '/home/tanazza.khanam/Distance_Estimate_Test/Distance_horizon_estimate.py':\n",
    "    args = parser.parse_args()\n",
    "    print('The command line arguments I am taking are: ' , str(sys.argv), 'please make sure this is correct!')\n",
    "else:\n",
    "    sys.argv = ['']\n",
    "    args = parser.parse_args()\n",
    "    print('Since this code does not apper to be run via command line, I am passing the default Distance_horizon_estimate.ini and number of waveforms 0 (zero) as inputs.')\n",
    "print(\"..........................\")\n",
    "print(\" \")    "
   ]
  },
  {
   "cell_type": "markdown",
   "metadata": {},
   "source": [
    "Next, we read in all parameter values from the .ini configuration file using configparser. "
   ]
  },
  {
   "cell_type": "code",
   "execution_count": 5,
   "metadata": {},
   "outputs": [
    {
     "data": {
      "text/plain": [
       "['Distance_horizon_estimate.ini']"
      ]
     },
     "execution_count": 5,
     "metadata": {},
     "output_type": "execute_result"
    }
   ],
   "source": [
    "num_of_waveform = int(args.num_of_waveform)\n",
    "config_file = args.config\n",
    "Config = configparser.ConfigParser(os.environ)\n",
    "Config.read(config_file)\n",
    "# print(num_of_waveform)"
   ]
  },
  {
   "cell_type": "markdown",
   "metadata": {},
   "source": [
    "### 5) Input computing/waveform/sensitivity parameters \n",
    "We first read the inputs saved under the \"ComputingParameters\", \"TemplateParameters\" and \"SensitivityParameters\" section of the .ini file. These are:\n",
    "- **BasePath**: This is the path to the directory where this code is being run (i.e., the output you get if you type pwd in the directory where you have saved this code). Example: /home/tanazza.khanam/Distance_Estimate_Test/. \n",
    "\n",
    "- **WaveformFolder**: This is the directory name which consists of waveform(s). \n",
    "\n",
    "- **WaveformName**: This is the name of the waveform over which this code will do calculations on.\n",
    "\n",
    "- **PathToSensiCurve**: This is the sensitivity curve directory placed within WaveformFolder.\n",
    "\n",
    "- **SensiCurveName**: This is the Sensitivity curve with which we would calculate the constant Gaussian PSD."
   ]
  },
  {
   "cell_type": "code",
   "execution_count": 6,
   "metadata": {},
   "outputs": [
    {
     "name": "stdout",
     "output_type": "stream",
     "text": [
      "List of waveforms:  [ 'C-0.41200000M2.5999999MsunR12.060000kmB3.0100000e14_h_cut165.00000_nospace.txt'\n",
      " 'C-0.41200000M2.5999999MsunR13.260000kmB4.9200000e14_h_cut165.00000_nospace.txt'\n",
      " 'C-0.41200000M2.5999999MsunR13.620000kmB4.1700000e14_h_cut165.00000_nospace.txt'\n",
      " ...,\n",
      " 'C-0.41200000M2.5999999MsunR12.280000kmB3.5300000e14_h_cut165.00000_nospace.txt'\n",
      " 'C-0.41200000M2.5999999MsunR13.400000kmB4.3300000e14_h_cut165.00000_nospace.txt'\n",
      " 'C-0.41200000M2.5999999MsunR12.560000kmB4.5800000e14_h_cut165.00000_nospace.txt']\n",
      "..........................\n",
      "Waveform selected:  C-0.41200000M2.5999999MsunR12.060000kmB3.0100000e14_h_cut165.00000_nospace.txt\n",
      "..........................\n",
      " \n",
      " \n"
     ]
    }
   ],
   "source": [
    "basepath = Config.get('ComputingParameters', 'BasePath')\n",
    "waveformfolder = Config.get('TemplateParameters', 'WaveformFolder')\n",
    "waveformlistfilename = Config.get('TemplateParameters', 'WaveformlistFilename' )\n",
    "waveformlist = basepath+waveformlistfilename\n",
    "waveformpath = waveformfolder\n",
    "#waveformname = Config.get('TemplateParameters','Waveform')\n",
    "# wvfrmlist_filename = np.loadtxt(waveformlistfilename, dtype=str)\n",
    "#print(wvfrmlist_filename)\n",
    "wvfrmlist_filename = np.genfromtxt(waveformlist, dtype=str)\n",
    "print(\"List of waveforms: \", wvfrmlist_filename)\n",
    "print(\"..........................\")\n",
    "waveformname = wvfrmlist_filename[int(num_of_waveform)]\n",
    "waveformfile = waveformpath+waveformname\n",
    "print(\"Waveform selected: \", waveformname)\n",
    "print(\"..........................\")\n",
    "Sensicurvefolder = Config.get('SensitivityParameters','SensiCurveFolder')\n",
    "Sensicurvepath = basepath+Sensicurvefolder\n",
    "Sensicurvename = Config.get('SensitivityParameters','SensiCurveName')\n",
    "Sensicurvefile = Sensicurvepath+Sensicurvename\n",
    "# print(Sensicurvepath)\n",
    "# wvfrm = np.loadtxt(waveformfile)\n",
    "print(\" \")\n",
    "print(\" \")"
   ]
  },
  {
   "cell_type": "markdown",
   "metadata": {},
   "source": [
    "### 6) Input Run/Timing/Statistical/Output parameters \n",
    "We next read the inputs saved under the \"RunParameters\", \"TimingParameters\", \"StatisticalParameters\" and \"OutputParameters\" section of the .ini file. These are:\n",
    "- **F_x_H/F_x_L and F_p_H/F_p_L**: This is cross(x) and plus(p) antenna factors for the LH and LL detector respectively.\n",
    "\n",
    "- **T_sft**: This is SFT baseline which determines number of SFTs over the chosen duration of waveform. \n",
    "\n",
    "- **f_s**: This is the sample frequency which is used to resample the waveform at desired frequency keeping nyquist limit in mind.\n",
    "\n",
    "- **lumdist**: This is the injected luminosity distance.\n",
    "\n",
    "- **A_p/A_x**: These are amplitude factors for plus and cross modes of GW."
   ]
  },
  {
   "cell_type": "code",
   "execution_count": 7,
   "metadata": {},
   "outputs": [],
   "source": [
    "# RunParameters\n",
    "F_x_H = float(Config.get('RunParameters', 'F_x_H'))\n",
    "F_x_L = float(Config.get('RunParameters', 'F_x_L'))\n",
    "F_p_H = float(Config.get('RunParameters', 'F_p_H'))\n",
    "F_p_L = float(Config.get('RunParameters', 'F_p_L'))\n",
    "T_sft = float(Config.get('RunParameters', 'T_sft'))\n",
    "f_s = float(Config.get('RunParameters', 'samplefreq'))\n",
    "lumdist = float(Config.get('RunParameters', 'lumdistance'))\n",
    "A_p = float(Config.get('RunParameters', 'A_p'))\n",
    "A_x = float(Config.get('RunParameters', 'A_x'))\n",
    "num_det=int(Config.get('RunParameters', 'num_det'))\n",
    "\n",
    "\n",
    "# StatisticalParameters\n",
    "FAP = float(Config.get('StatisticalParameters', 'FAP'))\n",
    "FDP = float (Config.get('StatisticalParameters', 'FDP'))\n",
    "\n",
    "# TimingParameters\n",
    "\n",
    "start_time = float(Config.get('TimingParameters', 'start_time'))\n",
    "t_signal = float(Config.get('TimingParameters', 'signal_duration'))\n",
    "\n",
    "# OutputParameters\n",
    "Plot_parameter = str(Config.get('OutputParameters','Plot_parameter'))\n",
    "outputfoldername = Config.get('OutputParameters','OutputFolder')\n",
    "outputpath = basepath+outputfoldername\n",
    "outputfilename = Config.get('OutputParameters','OutputFilename')\n",
    "outputfile = outputpath+outputfilename\n"
   ]
  },
  {
   "cell_type": "markdown",
   "metadata": {},
   "source": [
    "Loading the waveform file. Here we could've have used panda for faster run of the cell but this is a bargain between using pandas to load files vs avoiding to add one more dependency to the code to keep it simple."
   ]
  },
  {
   "cell_type": "code",
   "execution_count": 8,
   "metadata": {
    "colab": {
     "base_uri": "https://localhost:8080/"
    },
    "id": "MlCRY14mxjl5",
    "outputId": "d4a387d7-6a91-482c-c537-ab941d39c309"
   },
   "outputs": [
    {
     "name": "stdout",
     "output_type": "stream",
     "text": [
      "Beginning to load the waveform file. This step is the most timing consuming dependending on the size of waveform.\n",
      "..........................\n",
      " \n",
      " \n"
     ]
    }
   ],
   "source": [
    "print(\"Beginning to load the waveform file. This step is the most timing consuming dependending on the size of waveform.\")\n",
    "print(\"..........................\")\n",
    "wvfrm = np.loadtxt(waveformfile)\n",
    "print(\" \")\n",
    "print(\" \")"
   ]
  },
  {
   "cell_type": "markdown",
   "metadata": {},
   "source": [
    "Loading Sensitivity curve files"
   ]
  },
  {
   "cell_type": "code",
   "execution_count": 9,
   "metadata": {
    "colab": {
     "base_uri": "https://localhost:8080/",
     "height": 283
    },
    "id": "uS7RP48avwZi",
    "outputId": "197a05e9-f339-4455-c4ef-4335330d0f8d"
   },
   "outputs": [
    {
     "data": {
      "image/png": "[encoded data removed]",
      "text/plain": [
       "<Figure size 432x288 with 1 Axes>"
      ]
     },
     "metadata": {
      "needs_background": "light"
     },
     "output_type": "display_data"
    },
    {
     "name": "stdout",
     "output_type": "stream",
     "text": [
      "Gaussian_approx_PSD_adjusted : 1.05063098203e-47\n",
      "..........................\n",
      " \n",
      " \n"
     ]
    }
   ],
   "source": [
    "Sensi_curve = np.loadtxt(Sensicurvefile)\n",
    "\n",
    "freq = Sensi_curve[:,0]\n",
    "amp = Sensi_curve[:,1]\n",
    "PSD = amp**2\n",
    "\n",
    "#Calculating PSD from minimum freq of waveform to maximum freq of waveform. Note: Sensitivity curve freq range\n",
    "#could be much larger than that of waveform as it is freq range of detector\n",
    "\n",
    "wvfrm_freq = wvfrm[:,1]\n",
    "PSD_integrate = PSD[np.where(freq>=wvfrm_freq.min())[0][0]: np.where(freq>=wvfrm_freq.max())[0][0]]\n",
    "freq_integrate = freq[np.where(freq>=wvfrm_freq.min())[0][0]: np.where(freq>=wvfrm_freq.max())[0][0]]\n",
    "area_under_f1_f2_integrate_trapz = trapz(PSD_integrate,freq_integrate)\n",
    "Gaussian_approx_PSD = area_under_f1_f2_integrate_trapz/(wvfrm_freq.max()-wvfrm_freq.min())\n",
    "\n",
    "#Compensation PSD for spectal leakage such that taking only 85% of it and hence multiplying by 0.85 below to adjust PSD\n",
    "Gaussian_approx_PSD_adjusted = Gaussian_approx_PSD*0.85 \n",
    "\n",
    "plt.loglog(freq, PSD, 'orange', label = '{:}'.format(Sensicurvename))\n",
    "plt.axvline(x = freq_integrate.min() , color = 'black', linestyle = '-.')\n",
    "plt.axvline(x = freq_integrate.max(), color = 'black', linestyle = '-.')\n",
    "plt.axhline(y = Gaussian_approx_PSD_adjusted, color = 'red', linestyle = '--')\n",
    "plt.fill_between(freq_integrate, PSD_integrate, color = \"blue\",alpha = 0.4)\n",
    "plt.fill_between(freq_integrate, Gaussian_approx_PSD_adjusted, color = \"red\",alpha = 0.15)\n",
    "# plt.ylim(1e-47, 1e-43)\n",
    "# plt.xlim(1e1, 1e+3)\n",
    "plt.xlabel(\"Freq (Hz)\")\n",
    "plt.ylabel(\"PSD (Hz^-1)\")\n",
    "plt.legend()\n",
    "plt.show()\n",
    "print('Gaussian_approx_PSD_adjusted :',Gaussian_approx_PSD_adjusted)\n",
    "print(\"..........................\")\n",
    "print(\" \")\n",
    "print(\" \")"
   ]
  },
  {
   "cell_type": "code",
   "execution_count": 10,
   "metadata": {
    "colab": {
     "base_uri": "https://localhost:8080/"
    },
    "id": "KNRgxUrUvwZi",
    "outputId": "d017f653-94a5-4794-df43-ae1614cb0df5"
   },
   "outputs": [
    {
     "name": "stdout",
     "output_type": "stream",
     "text": [
      "You have picked:\n",
      "F_p_L =  1.0 , F_x_L =  0.0 , F_p_H =  1.0 and F_x_H =  0.0\n",
      "T_sft =  0.25\n",
      "Sample frequency =  4096.0 Hz\n",
      "Injected distance =  15.0 Mpc \n",
      "FAP =  0.01\n",
      "FDP =  0.5\n",
      "start =  0\n",
      "signal duration =  165.0\n",
      "t_signal:  165.0 start:  0 stop:  165\n",
      "..........................\n",
      " \n",
      " \n"
     ]
    }
   ],
   "source": [
    "print( \"You have picked:\")\n",
    "print(\"F_p_L = \" , F_p_L, \", F_x_L = \", F_x_L, \", F_p_H = \", F_p_H, \"and F_x_H = \", F_x_H)\n",
    "print('T_sft = ', T_sft)\n",
    "print('Sample frequency = ', f_s, 'Hz')\n",
    "print('Injected distance = ', lumdist, 'Mpc ')\n",
    "print('FAP = ', FAP )\n",
    "print('FDP = ',  FDP )\n",
    "\n",
    "#picking the start time value from waveform which is closest to given input start time \n",
    "\n",
    "if start_time == 0:\n",
    "    t_start = wvfrm[:,0][0]\n",
    "    start = int(t_start)\n",
    "    print('start = ', start)\n",
    "else:\n",
    "    start = wvfrm[:,0][np.where(wvfrm[:,0] >=start_time)[0][0]]\n",
    "    print('start = ', start)\n",
    "\n",
    "\n",
    "if t_signal != 0.0 :\n",
    "    print('signal duration = ', t_signal)\n",
    "else: \n",
    "    t_signal = np.floor(max(wvfrm[:,0])-min(wvfrm[:,0]))\n",
    "    print('signal duration = ', t_signal)\n",
    "\n",
    "stop = int(start+t_signal)\n",
    "\n",
    "#Making sure that stop time does not exceed the stop time of waveform\n",
    "if stop > np.floor(max(wvfrm[:,0])-min(wvfrm[:,0])) :\n",
    "    stop = wvfrm[:,0][-1]\n",
    "print (\"t_signal: \", t_signal,\"start: \", start,\"stop: \", stop)\n",
    "print(\"..........................\")\n",
    "print(\" \")\n",
    "print(\" \")"
   ]
  },
  {
   "cell_type": "markdown",
   "metadata": {
    "id": "UrWJWujaZ2K7"
   },
   "source": [
    "**Calculation part of the code begins**"
   ]
  },
  {
   "cell_type": "code",
   "execution_count": 11,
   "metadata": {
    "colab": {
     "base_uri": "https://localhost:8080/"
    },
    "id": "MkDj1DmlvwZj",
    "outputId": "4e05e7d0-db34-4011-a461-78e50336e55c"
   },
   "outputs": [
    {
     "name": "stdout",
     "output_type": "stream",
     "text": [
      "G_IJ:  (0.25+0j)\n",
      " \n"
     ]
    }
   ],
   "source": [
    "#Calculation part of the code\n",
    "\n",
    "\n",
    "#Calculating G_ij from Equation 4.6 Coyne et al \n",
    "#Note that we are performing it strictly for Stochastic case with A+/Ax =1 and I, J coming from different detectors at coincidental times.\n",
    "delta_phi_IJ = np.arctan(-(F_x_H/F_p_H)) - np.arctan(-(F_x_L/F_p_L))\n",
    "G_IJ = np.sqrt((A_p**2*F_p_H**2+A_x**2*F_x_H**2)*(A_p**2*F_p_L**2+A_x**2*F_x_L**2))*np.exp(complex(0,-delta_phi_IJ))/4\n",
    "print(\"G_IJ: \",G_IJ)\n",
    "print(\" \")"
   ]
  },
  {
   "cell_type": "code",
   "execution_count": 12,
   "metadata": {
    "colab": {
     "base_uri": "https://localhost:8080/"
    },
    "id": "WTXINp1a0Pb2",
    "outputId": "5e6cd3bf-682f-4bc5-ec76-5477c107e0c2"
   },
   "outputs": [
    {
     "name": "stdout",
     "output_type": "stream",
     "text": [
      "sigma_sqr_IJ:  4.41530184161e-94\n",
      " \n",
      "U_IJ:  (5.66212705197e+92+0j)\n",
      " \n"
     ]
    }
   ],
   "source": [
    "#Equation 4.4 Coyne et al\n",
    "\n",
    "#initialising U_IJ\n",
    "U_IJ=0\n",
    "#Fixing PSDs\n",
    "S_n_H = S_n_L = S_n = Gaussian_approx_PSD_adjusted #1.4445165765542899e-47  # Set to value given by Rob for Fig-5   # 5.8e-47 was value given by Eric \n",
    "\n",
    "sigma_sqr_IJ = S_n_H*S_n_L/(4*T_sft**2)\n",
    "print(\"sigma_sqr_IJ: \",sigma_sqr_IJ)\n",
    "print(\" \")\n",
    "#Equation 4.12 Coyne et al\n",
    "\n",
    "#Since I=J, if I comes from LL, J must come from LH\n",
    "U_IJ = np.exp(complex(0,delta_phi_IJ))*np.sqrt((A_p**2*F_p_H**2+A_x**2*F_x_H**2)*(A_p**2*F_p_L**2+A_x**2*F_x_L**2))*(T_sft**2)/S_n**2 \n",
    "print(\"U_IJ: \", U_IJ)\n",
    "print(\" \")\n"
   ]
  },
  {
   "cell_type": "code",
   "execution_count": 45,
   "metadata": {
    "colab": {
     "base_uri": "https://localhost:8080/"
    },
    "id": "8cHJHHcGGlre",
    "outputId": "cc86e40a-36f7-4ff4-d7b6-8d46b86a63b2"
   },
   "outputs": [],
   "source": [
    "#Equation 4.14 Coyne et al\n",
    "\n",
    "#resampling time at 1/f_s rate\n",
    "time_track = np.arange(start, stop, f_s**-1) \n",
    "\n",
    "#interpolating corresponding frequencies\n",
    "freq = np.interp(time_track, wvfrm[:,0], wvfrm[:,1]) \n",
    "\n",
    "#calculating phase from those new sampled freq and time track\n",
    "phase = np.concatenate([np.array([0]), 2*np.pi*cumtrapz(freq, x=time_track)]) \n",
    "\n",
    "#interpolating corresponding amplitudes \n",
    "#apmlitude is modified so as to measure at lumdist. Also adjusting the units 1e-21\n",
    "h_amp = np.interp(time_track, wvfrm[:,0], (100/lumdist)*1e-21*wvfrm[:,2]) \n",
    "# print((h_amp))\n"
   ]
  },
  {
   "cell_type": "code",
   "execution_count": 14,
   "metadata": {
    "colab": {
     "base_uri": "https://localhost:8080/"
    },
    "id": "j0YwCNUcD65j",
    "outputId": "473eccb5-9a5a-4b4d-c23e-16a7cf6717fa"
   },
   "outputs": [
    {
     "name": "stderr",
     "output_type": "stream",
     "text": [
      "100%|██████████| 660/660 [00:00<00:00, 1142.50it/s]"
     ]
    },
    {
     "name": "stdout",
     "output_type": "stream",
     "text": [
      "num_sft_stoch for chosen duration = 660\n",
      " \n",
      "rho value from 4.14 CCO is 2.75303182811e+49\n",
      " \n"
     ]
    },
    {
     "name": "stderr",
     "output_type": "stream",
     "text": [
      "\n"
     ]
    }
   ],
   "source": [
    "#Defining num_sfts for Stochastic case \n",
    "\n",
    "num_sft_stoch = {}\n",
    "num_sft_stoch = int((stop-start)/T_sft)\n",
    "\n",
    "\n",
    "# eqn 3.16 for 'LH' i.e. getting ampltitude at resampled time/freq data points\n",
    "h_t_H = (h_amp*A_p*F_p_H*np.cos(phase)) + (h_amp*A_x*F_x_H*np.sin(phase)) \n",
    "# eqn 3.16 for 'LL' i.e. getting ampltitude at resampled time/freq data points\n",
    "h_t_L = (h_amp*A_p*F_p_L*np.cos(phase)) + (h_amp*A_x*F_x_L*np.sin(phase)) \n",
    "\n",
    "\n",
    "h_f_L = {} #defining array going to store fft for each T_sft length for LL\n",
    "h_f_H = {} #defining array going to store fft for each T_sft length for LH\n",
    "rho = 0  #initializing rho from eqn 4.14 CCO\n",
    "com_con_h_f_H = {} #defining array going to store complex conjugate of fft for each T_sft length for LH\n",
    "\n",
    "h_f_sum = 0 # initializing of what is going to store equivalent of {} quantity in equantion 4.14 CCO \n",
    "counter = 0\n",
    "for i in tnrange(num_sft_stoch):\n",
    "  h_f_L[i] = (np.fft.rfft(h_t_L[int(i*f_s*T_sft):int((i+1)*f_s*T_sft)])[1:-1])/f_s \n",
    "  h_f_H[i] = (np.fft.rfft(h_t_H[int(i*f_s*T_sft):int((i+1)*f_s*T_sft)])[1:-1])/f_s \n",
    "  com_con_h_f_H[i] = np.ndarray.conjugate(h_f_H[i])\n",
    "  for j in range(len(com_con_h_f_H[i])):\n",
    "    h_f_sum =  h_f_sum +(U_IJ*com_con_h_f_H[i][j]*h_f_L[i][j])\n",
    "    counter = counter+1\n",
    "#print (h_f_sum)    \n",
    "print('num_sft_stoch for chosen duration =', num_sft_stoch)\n",
    "print(\" \")\n",
    "#print ('Some checks for iterations: ', num_sft_stoch*len(com_con_h_f_H[i]), counter)\n",
    "rho = (2*h_f_sum.real)/(T_sft**2)\n",
    "print('rho value from 4.14 CCO is', rho)\n",
    "print(\" \")"
   ]
  },
  {
   "cell_type": "code",
   "execution_count": 39,
   "metadata": {
    "colab": {
     "base_uri": "https://localhost:8080/"
    },
    "id": "4e_8LqlJMQCA",
    "outputId": "f09d58a0-fe34-49c3-d543-b1e5a75a3ac3"
   },
   "outputs": [
    {
     "name": "stdout",
     "output_type": "stream",
     "text": [
      "mean rho calculated from 4.17 CCO  = 2.75307223121e+49\n",
      " \n"
     ]
    }
   ],
   "source": [
    "#Equation 4.17 Coyne et al\n",
    "mean_rho = 0.0\n",
    "amp_new = [] \n",
    "time_new = []\n",
    "#now calcuate the times and amplitudes at the center of each time-resampled bin\n",
    "for i in range(num_sft_stoch):\n",
    "    amp_new = np.append(amp_new,h_amp[int((i+0.5)*T_sft*f_s)]) \n",
    "    time_new = np.append(time_new,time_track[int((i+0.5)*T_sft*f_s)]) \n",
    "# print(amp_new)\n",
    "power = (amp_new)**2\n",
    "# print((power))\n",
    "#Equation 4.17 Coyne et al\n",
    "mean_rho = ((T_sft**2/2.)*(A_p**2*F_p_H**2+A_x**2*F_x_H**2)*(A_p**2*F_p_L**2+A_x**2*F_x_L**2)/(S_n**2))*np.sum(power)\n",
    "print('mean rho calculated from 4.17 CCO  =', mean_rho)\n",
    "print(\" \")"
   ]
  },
  {
   "cell_type": "code",
   "execution_count": 40,
   "metadata": {},
   "outputs": [
    {
     "name": "stdout",
     "output_type": "stream",
     "text": [
      "sigma rho = 4.32261717846e+47\n",
      " \n"
     ]
    }
   ],
   "source": [
    "#Equation 4.18 Coyne et al\n",
    "rho_sigma = ((T_sft**2/2.)*(A_p**2*F_p_H**2+A_x**2*F_x_H**2)*(A_p**2*F_p_L**2+A_x**2*F_x_L**2)/(S_n**2)*num_sft_stoch)**(0.5) \n",
    "print('sigma rho =',rho_sigma)\n",
    "print(\" \")"
   ]
  },
  {
   "cell_type": "code",
   "execution_count": 41,
   "metadata": {},
   "outputs": [
    {
     "name": "stdout",
     "output_type": "stream",
     "text": [
      "hrms_input =  1.21384162976e-23\n",
      " \n"
     ]
    }
   ],
   "source": [
    "#Equation 4.24 Coyne et al\n",
    "hrms_input = (np.sum(power)/num_sft_stoch)**(0.5)\n",
    "print('hrms_input = ', hrms_input) \n",
    "print(\" \")"
   ]
  },
  {
   "cell_type": "code",
   "execution_count": 18,
   "metadata": {
    "colab": {
     "base_uri": "https://localhost:8080/"
    },
    "id": "Cj5fiPz0FCU7",
    "outputId": "5fd9c2fb-4baf-4296-aa95-37116d1576db"
   },
   "outputs": [
    {
     "name": "stdout",
     "output_type": "stream",
     "text": [
      "sigma rho = 4.32261717846e+47\n"
     ]
    }
   ],
   "source": [
    "#Equation 4.18 Coyne et al\n",
    "rho_sigma = ((T_sft**2/2.)*(A_p**2*F_p_H**2+A_x**2*F_x_H**2)*(A_p**2*F_p_L**2+A_x**2*F_x_L**2)/(S_n**2)*num_sft_stoch)**(0.5) \n",
    "print('sigma rho =',rho_sigma)\n"
   ]
  },
  {
   "cell_type": "code",
   "execution_count": 19,
   "metadata": {
    "colab": {
     "base_uri": "https://localhost:8080/"
    },
    "id": "Xl0NlEPVFWj_",
    "outputId": "cde99642-68e1-48b2-90e6-aa1d0a0c0d97"
   },
   "outputs": [
    {
     "name": "stdout",
     "output_type": "stream",
     "text": [
      "hrms_input =  1.21384162976e-23\n",
      " \n"
     ]
    }
   ],
   "source": [
    "#Equation 4.24 Coyne et al\n",
    "hrms_input = (np.sum(power)/num_sft_stoch)**(0.5)\n",
    "print('hrms_input = ', hrms_input) \n",
    "print(\" \")"
   ]
  },
  {
   "cell_type": "code",
   "execution_count": 20,
   "metadata": {
    "colab": {
     "base_uri": "https://localhost:8080/"
    },
    "id": "IfdDGkrfGRF0",
    "outputId": "e5bbb425-9be2-48ca-8100-924c4aed2c2c"
   },
   "outputs": [
    {
     "name": "stdout",
     "output_type": "stream",
     "text": [
      "SNR_thr= 2.32634787404\n",
      " \n"
     ]
    }
   ],
   "source": [
    "#Equation 4.22 Coyne et al \n",
    "S = special.erfcinv(2.0*FAP)-special.erfcinv(2.0*(1.0-FDP)) #Detection limit for Stochastic \n",
    "\n",
    "#print the SNR threshold for detection\n",
    "SNR_thr=S*(2.0)**(0.5) #Notice it is being multiplied by sqrt2\n",
    "\n",
    "print('SNR_thr=', SNR_thr) \n",
    "print(\" \")"
   ]
  },
  {
   "cell_type": "code",
   "execution_count": 21,
   "metadata": {
    "colab": {
     "base_uri": "https://localhost:8080/"
    },
    "id": "4u357ey4FYAy",
    "outputId": "a8d1860b-4585-4805-fbb1-cdc71ab0ecd9"
   },
   "outputs": [
    {
     "name": "stdout",
     "output_type": "stream",
     "text": [
      "hrms_min_Stoch =  2.31987156407e-24\n",
      " \n"
     ]
    }
   ],
   "source": [
    "#Following Eq. 4.23 of Coyne et al. to caclualte the minimum detectable hrms\n",
    "hrms_min_Stoch = ((2.0)**0.5*S**0.5*T_sft**(-0.5)*num_sft_stoch**(-0.25)*S_n**(0.5))/((A_p**2*F_p_H**2+A_x**2*F_x_H**2)*(A_p**2*F_p_L**2+A_x**2*F_x_L**2))**0.25\n",
    "print('hrms_min_Stoch = ', hrms_min_Stoch)\n",
    "print(\" \")"
   ]
  },
  {
   "cell_type": "code",
   "execution_count": 22,
   "metadata": {
    "colab": {
     "base_uri": "https://localhost:8080/"
    },
    "id": "9rl304UqGRsn",
    "outputId": "ab18584b-5109-4bc1-f382-372f375657c9"
   },
   "outputs": [
    {
     "name": "stdout",
     "output_type": "stream",
     "text": [
      "maximum distance for Stochastic limit =  78.4854848361\n",
      " \n"
     ]
    }
   ],
   "source": [
    "#Maximum distance for detection\n",
    "distance_max_Stoch  = lumdist*(hrms_input/hrms_min_Stoch)\n",
    "print('maximum distance for Stochastic limit = ', distance_max_Stoch) \n",
    "print(\" \")"
   ]
  },
  {
   "cell_type": "markdown",
   "metadata": {
    "id": "x7v9RUpLaRcT"
   },
   "source": [
    "**Code Output begins**"
   ]
  },
  {
   "cell_type": "code",
   "execution_count": 23,
   "metadata": {
    "colab": {
     "base_uri": "https://localhost:8080/"
    },
    "id": "MwuzKdrnGSKI",
    "outputId": "6ec67d0a-c6e5-447e-aef1-f59f77bc5965"
   },
   "outputs": [
    {
     "name": "stdout",
     "output_type": "stream",
     "text": [
      ".........Printing Output for Stochastic Limit...........\n",
      "rho value from 4.14 CCO is 2.75303182811e+49\n",
      "mean rho from 4.17 CCO is 2.75307223121e+49\n",
      "ratio_rho =  1.00001467586\n",
      "SNR= 63.6899387004\n",
      "SNR_thr= 2.32634787404\n",
      "hrms_input =  1.21384162976e-23\n",
      "hrms_thr_Stoch = 2.31987156407e-24\n",
      "hrms_ratio =  5.23236565574\n",
      "input_distance =  15.0 Mpc\n",
      "distance_max_Stoch =  78.4854848361 Mpc\n",
      "distance_ratio_Stoch = 0.191118141543\n",
      " \n",
      " \n"
     ]
    }
   ],
   "source": [
    "#Code Output:\n",
    "print(\".........Printing Output for Stochastic Limit...........\")\n",
    "print('rho value from 4.14 CCO is',rho)\n",
    "print('mean rho from 4.17 CCO is', mean_rho)\n",
    "ratio=mean_rho/rho\n",
    "print('ratio_rho = ',ratio)\n",
    "\n",
    "#print input waveform SNR\n",
    "SNR = mean_rho/rho_sigma\n",
    "print('SNR=',SNR)\n",
    "print('SNR_thr=', SNR_thr) \n",
    "\n",
    "print('hrms_input = ', hrms_input)\n",
    "print('hrms_thr_Stoch =', hrms_min_Stoch)\n",
    "print('hrms_ratio = ',(hrms_input/hrms_min_Stoch))\n",
    "\n",
    "#Stoch Limit for distance estimate\n",
    "print('input_distance = ', lumdist, 'Mpc')\n",
    "print('distance_max_Stoch = ', distance_max_Stoch,  'Mpc')\n",
    "print('distance_ratio_Stoch =', lumdist/distance_max_Stoch)\n",
    "print(\" \")\n",
    "print(\" \")\n"
   ]
  },
  {
   "cell_type": "code",
   "execution_count": 24,
   "metadata": {
    "colab": {
     "base_uri": "https://localhost:8080/"
    },
    "id": "7ADFOO_gLwrF",
    "outputId": "6f85d8d9-4079-45b6-9421-55ab5da5aa73"
   },
   "outputs": [
    {
     "name": "stdout",
     "output_type": "stream",
     "text": [
      ".........Printing Output for Matched Filter Limit...........\n",
      "hrms_min_MF =  5.10659950179e-25\n",
      "input_distance =  15.0 Mpc\n",
      "distance_max_MF =  356.550860116 Mpc\n",
      "distance_ratio_MF = 0.0420697344415\n",
      " \n",
      " \n"
     ]
    }
   ],
   "source": [
    "#MF Limit for distance estimate\n",
    "n_coh_MF=1\n",
    "dof =2*n_coh_MF\n",
    "hrms_min_MF = 0.\n",
    "\n",
    "# Pass array of non-centrality parameters to UNSCALED NCX2 CDF\n",
    "# Calculate absolute value of difference from FDP\n",
    "ncp_range = np.linspace(0,25*n_coh_MF,10000)\n",
    "diff_from_fdp = np.abs(ncx2.cdf(chi2.ppf(1-FAP, dof), dof, nc=ncp_range)-FDP)\n",
    "#print(diff_from_fdp.min())\n",
    "\n",
    "# Find index of closest value to FDP\n",
    "ncp_idx = np.where(diff_from_fdp==np.nanmin(diff_from_fdp))\n",
    "ncp = ncp_range[ncp_idx][0]\n",
    "#print(ncp_idx,ncp_range[ncp_idx])\n",
    "\n",
    "\n",
    "# Calculates and returns the hrms value based on Eq. (4.35) / Eq. (4.37)\n",
    "hrms_min_MF = np.sqrt(ncp*S_n/(int(stop - start)*num_det*(A_p**2*F_p_H**2+A_x**2*F_x_H**2))) #num_det =2 (passed in inputs)\n",
    "\n",
    "\n",
    "#Maximum distance for detection MF limit\n",
    "print(\".........Printing Output for Matched Filter Limit...........\")\n",
    "print('hrms_min_MF = ', hrms_min_MF)\n",
    "print('input_distance = ', lumdist, 'Mpc')\n",
    "distance_max_MF = lumdist*(hrms_input/hrms_min_MF)\n",
    "print('distance_max_MF = ', distance_max_MF, 'Mpc')\n",
    "print('distance_ratio_MF =', lumdist/distance_max_MF)\n",
    "print(\" \")\n",
    "print(\" \")"
   ]
  },
  {
   "cell_type": "code",
   "execution_count": 25,
   "metadata": {
    "colab": {
     "base_uri": "https://localhost:8080/"
    },
    "id": "mpEVCOIcW60x",
    "outputId": "f7c244cc-fe9e-45ad-d92f-257fd0beb8c0"
   },
   "outputs": [
    {
     "name": "stdout",
     "output_type": "stream",
     "text": [
      ".........Printing Output for Semi Coherent Limit...........\n",
      "hrms_min_SC =  1.8612482196e-24\n",
      "input_distance =  15.0 Mpc\n",
      "distance_max_SC = 97.8248051745 Mpc\n",
      "distance_ratio_SC = 0.153335342434\n",
      " \n",
      " \n"
     ]
    }
   ],
   "source": [
    "#SC Limit for distance estimate\n",
    "n_coh_SC=512\n",
    "dof =2*n_coh_SC\n",
    "hrms_min_SC = 0.\n",
    "\n",
    "# Pass array of non-centrality parameters to UNSCALED NCX2 CDF\n",
    "# Calculate absolute value of difference from FDP\n",
    "ncp_range = np.linspace(0,25*n_coh_SC,10000)\n",
    "diff_from_fdp = np.abs(ncx2.cdf(chi2.ppf(1-FAP, dof), dof, nc=ncp_range)-FDP)\n",
    "\n",
    "# Find index of closest value to FDP\n",
    "ncp_idx = np.where(diff_from_fdp==np.nanmin(diff_from_fdp))\n",
    "ncp = ncp_range[ncp_idx][0]\n",
    "\n",
    "hrms_min_SC = np.sqrt(S_n*ncp/(int(stop - start)*(A_p**2*F_p_H**2+A_x**2*F_x_H**2)*num_det)) #num_det =2 (passed in inputs)\n",
    "\n",
    "\n",
    "#Maximum distance for detection SC limit\n",
    "print(\".........Printing Output for Semi Coherent Limit...........\")\n",
    "print('hrms_min_SC = ', hrms_min_SC)\n",
    "print('input_distance = ', lumdist, 'Mpc')\n",
    "distance_max_SC = lumdist*(hrms_input/hrms_min_SC)\n",
    "print('distance_max_SC =', distance_max_SC, 'Mpc')\n",
    "print('distance_ratio_SC =', lumdist/distance_max_SC)\n",
    "print(\" \")\n",
    "print(\" \")"
   ]
  },
  {
   "cell_type": "code",
   "execution_count": 26,
   "metadata": {},
   "outputs": [
    {
     "name": "stdout",
     "output_type": "stream",
     "text": [
      "....Saving useful output in file at /home/tanazza.khanam/Distance_Estimate_Test/curves_Jan_2020/.....PSD_Stoch_MF_SC_distances.txt\n",
      " \n"
     ]
    }
   ],
   "source": [
    "print(\"....Saving useful output in file at {:}.....\".format(Sensicurvepath)+\"PSD_Stoch_MF_SC_distances.txt\")\n",
    "file1 = open(\"{:}\".format(Sensicurvepath)+\"PSD_Stoch_MF_SC_distances.txt\", \"a\")\n",
    "#file1 = open(\"myfile.txt\", \"a\")  # append mode\n",
    "file1.write(\"\\n\")\n",
    "file1.write(\"{:} {:} : \".format(Sensicurvename[:-4], waveformname[:-4]))\n",
    "file1.write(\"\\n\")\n",
    "file1.write(\"Gaussian_approx_PSD_adjusted: \")\n",
    "file1.write(str(Gaussian_approx_PSD_adjusted))\n",
    "file1.write(\"\\n\")\n",
    "file1.write(\"distance_max_Stoch: \")\n",
    "file1.write(str(distance_max_Stoch))\n",
    "file1.write(\"\\n\")\n",
    "file1.write(\"distance_max_SC: \")\n",
    "file1.write(str(distance_max_SC))\n",
    "file1.write(\"\\n\")\n",
    "file1.write(\"distance_max_MF: \")\n",
    "file1.write(str(distance_max_MF))\n",
    "file1.write(\"\\n\")\n",
    "file1.close()\n",
    "print(\" \")"
   ]
  },
  {
   "cell_type": "markdown",
   "metadata": {
    "id": "A_oB-LpREdLc"
   },
   "source": [
    "**Plotting Figure 5 from Coyne et al  https://arxiv.org/pdf/1512.01301.pdf**"
   ]
  },
  {
   "cell_type": "code",
   "execution_count": 27,
   "metadata": {
    "colab": {
     "base_uri": "https://localhost:8080/"
    },
    "id": "obNxmT3KQd2J",
    "outputId": "9ba3863f-6cba-42b9-9443-b9c042bb143a"
   },
   "outputs": [
    {
     "name": "stderr",
     "output_type": "stream",
     "text": [
      "  0%|          | 0/100 [00:00<?, ?it/s]__main__:9: RuntimeWarning: invalid value encountered in double_scalars\n",
      "100%|██████████| 100/100 [00:00<00:00, 27999.36it/s]\n",
      "100%|██████████| 100/100 [00:00<00:00, 126.33it/s]\n",
      "100%|██████████| 100/100 [00:02<00:00, 37.35it/s]\n",
      "100%|██████████| 100/100 [00:01<00:00, 75.87it/s]\n"
     ]
    }
   ],
   "source": [
    "if Plot_parameter == 'True': \n",
    "  #Stochastic Limit: Figure-5 in remaking\n",
    "\n",
    "  FAP_values = np.logspace(-5, 0, 100)\n",
    "  S_Stoch=np.ones(len(FAP_values))\n",
    "  hrms_min_Stoch=np.ones(len(FAP_values))\n",
    "  for i in tnrange(len(FAP_values)):\n",
    "    S_Stoch[i] = special.erfcinv(2.0*FAP_values[i])-special.erfcinv(2.0*(1.0-FDP)) #detection condition\n",
    "    hrms_min_Stoch[i] = (((2.0)**0.5*S_Stoch[i]**0.5*T_sft**(-0.5)*num_sft_stoch**(-0.25)*S_n**(0.5))/((A_p**2*F_p_H**2+A_x**2*F_x_H**2)*(A_p**2*F_p_L**2+A_x**2*F_x_L**2))**0.25)\n",
    "  #print((S_Stoch[-1]),hrms_min_Stoch[-1], FAP_values[-1])\n",
    "\n",
    "\n",
    "  #Matched Filter/Semi-Coherent Limit: Figure-5 in remaking\n",
    "\n",
    "  hrms_min_SC= {}\n",
    "  for n_coh_SC in [1, 64, 512] :\n",
    "    hrms_min_SC[n_coh_SC]={}\n",
    "    for i in tnrange(len(FAP_values)):\n",
    "      dof =2*n_coh_SC\n",
    "      # Pass array of non-centrality parameters to UNSCALED NCX2 CDF\n",
    "      # Calculate absolute value of difference from FDP\n",
    "      ncp_range = np.linspace(0,25*n_coh_SC,10000)\n",
    "      diff_from_fdp = np.abs(ncx2.cdf(chi2.ppf(1-FAP_values[i], dof), dof, nc=ncp_range)-FDP)\n",
    "      \n",
    "      # Find index of closest value to FDP\n",
    "      ncp_idx = np.where(diff_from_fdp==np.nanmin(diff_from_fdp))\n",
    "      ncp = ncp_range[ncp_idx][0]\n",
    "\n",
    "      # Calculates and returns the hrms value based on Eq. (4.35) / Eq. (4.37)\n",
    "      hrms_min_SC[n_coh_SC][i] = np.sqrt(ncp*S_n/(int(stop - start)*num_det*(A_p**2*F_p_H**2+A_x**2*F_x_H**2)))\n",
    "      #print(hrms_min_SC[i], FAP_values[i], ncp ) \n",
    "#     print(len(hrms_min_SC), hrms_min_SC[n_coh_SC])\n",
    "\n",
    "hrms_min_MF = list(hrms_min_SC[1].values())\n",
    "hrms_min_SC_64 = list(hrms_min_SC[64].values())\n",
    "hrms_min_SC_512 =list(hrms_min_SC[512].values())  "
   ]
  },
  {
   "cell_type": "code",
   "execution_count": 28,
   "metadata": {
    "colab": {
     "base_uri": "https://localhost:8080/",
     "height": 365
    },
    "id": "IZcsqwCHQCGc",
    "outputId": "3013bae2-de97-487e-8e73-e5b7570b04d8"
   },
   "outputs": [
    {
     "name": "stdout",
     "output_type": "stream",
     "text": [
      "........Saving plot at /home/tanazza.khanam/Distance_Estimate_Test/Fig_5_Plots/Fig_5_CCO.png\n",
      " \n"
     ]
    },
    {
     "data": {
      "image/png": "[encoded data removed]",
      "text/plain": [
       "<Figure size 432x288 with 1 Axes>"
      ]
     },
     "metadata": {
      "needs_background": "light"
     },
     "output_type": "display_data"
    }
   ],
   "source": [
    "if Plot_parameter == 'True':\n",
    "    print (\"........Saving plot at {:}\".format(outputfile))\n",
    "    print(\" \")\n",
    "  #Plotting Figure-5\n",
    "\n",
    "    plt.semilogx(FAP_values, hrms_min_MF, 'b', ls='-', label = 'MF')\n",
    "    plt.semilogx(FAP_values, hrms_min_Stoch, 'r', dashes=[4,6], label = 'Stoch')\n",
    "    plt.semilogx(FAP_values, hrms_min_SC_64, '#7f007f', dashes=[12,6,4,6], label = 'n_coh=64')\n",
    "    plt.semilogx(FAP_values, hrms_min_SC_512, '#bf003f', dashes=[12,6,4,6,4,6], label = 'n_coh=512')\n",
    "\n",
    "    plt.grid(True)\n",
    "    plt.xlabel(\"FAP\")\n",
    "    plt.xlim(1e-5,0.5)\n",
    "    plt.ylabel(\"hmin\")\n",
    "    plt.ylim(0, 3.0e-24)\n",
    "    plt.legend(loc= 'upper right')\n",
    "    plt.savefig(outputfile)\n",
    "\n",
    "    plt.show()"
   ]
  },
  {
   "cell_type": "code",
   "execution_count": 29,
   "metadata": {},
   "outputs": [
    {
     "name": "stdout",
     "output_type": "stream",
     "text": [
      "Ending run on  2022-09-07-15:21:00\n",
      " \n"
     ]
    }
   ],
   "source": [
    "tick2 = datetime.datetime.now()\n",
    "print('Ending run on ',tick2.strftime(\"%Y-%m-%d-%H:%M:%S\"))\n",
    "print(\" \")"
   ]
  },
  {
   "cell_type": "code",
   "execution_count": 30,
   "metadata": {},
   "outputs": [
    {
     "name": "stdout",
     "output_type": "stream",
     "text": [
      "Total run time  0:00:44.767995\n",
      " \n"
     ]
    }
   ],
   "source": [
    "time_taken = tick2-tick1\n",
    "print('Total run time ',time_taken)\n",
    "print(\" \")"
   ]
  },
  {
   "cell_type": "code",
   "execution_count": 31,
   "metadata": {
    "id": "HCqGyeXodVNt"
   },
   "outputs": [
    {
     "name": "stdout",
     "output_type": "stream",
     "text": [
      "[NbConvertApp] Converting notebook Distance_horizon_estimate.ipynb to script\n",
      "[NbConvertApp] Writing 27553 bytes to Distance_horizon_estimate.py\n"
     ]
    }
   ],
   "source": [
    "!jupyter nbconvert --to script Distance_horizon_estimate.ipynb"
   ]
  },
  {
   "cell_type": "code",
   "execution_count": null,
   "metadata": {},
   "outputs": [],
   "source": []
  },
  {
   "cell_type": "code",
   "execution_count": 32,
   "metadata": {},
   "outputs": [],
   "source": [
    "# waveform_list =[]\n",
    "\n",
    "# for filename in os.listdir(waveformpath):\n",
    "#      waveform_list=np.append(waveform_list,filename)\n",
    "# waveform_list = sorted(waveform_list)\n",
    "\n",
    "# # print(waveform_list)\n",
    "\n",
    "# Sensitivity_curve_list = []\n",
    "\n",
    "# for filename in os.listdir(Sensicurvepath):\n",
    "#      Sensitivity_curve_list=np.append(Sensitivity_curve_list,filename)\n",
    "# Sensitivity_curve_list = sorted(Sensitivity_curve_list)\n",
    "\n",
    "# # print(Sensitivity_curve_list)"
   ]
  }
 ],
 "metadata": {
  "colab": {
   "collapsed_sections": [],
   "name": "Distance_horizon_estimate.ipynb",
   "provenance": []
  },
  "kernelspec": {
   "display_name": "CoCoA-py3-venv",
   "language": "python",
   "name": "cocoa-py3-venv"
  },
  "language_info": {
   "codemirror_mode": {
    "name": "ipython",
    "version": 3
   },
   "file_extension": ".py",
   "mimetype": "text/x-python",
   "name": "python",
   "nbconvert_exporter": "python",
   "pygments_lexer": "ipython3",
   "version": "3.6.8"
  }
 },
 "nbformat": 4,
 "nbformat_minor": 4
}
